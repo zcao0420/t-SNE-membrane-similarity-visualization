{
 "cells": [
  {
   "cell_type": "code",
   "execution_count": 535,
   "metadata": {},
   "outputs": [],
   "source": [
    "import rdkit \n",
    "from rdkit import Chem, DataStructs\n",
    "from rdkit.Chem import AllChem\n",
    "import pandas as pd\n",
    "import numpy as np\n",
    "from sklearn.manifold import TSNE\n",
    "from sklearn.decomposition import PCA"
   ]
  },
  {
   "cell_type": "code",
   "execution_count": 536,
   "metadata": {},
   "outputs": [],
   "source": [
    "import sys\n",
    "import datetime\n",
    "import os\n",
    "import seaborn as sns\n",
    "import matplotlib.pyplot as plt\n",
    "from parametric_tsne.parametric_tSNE import Parametric_tSNE\n",
    "from parametric_tsne.parametric_tSNE.utils import get_multiscale_perplexities"
   ]
  },
  {
   "cell_type": "code",
   "execution_count": 537,
   "metadata": {},
   "outputs": [],
   "source": [
    "import glob\n",
    "files=glob.glob(\"/home/cmu/Desktop/tutorial/pdbs/*.pdb\")"
   ]
  },
  {
   "cell_type": "code",
   "execution_count": 538,
   "metadata": {},
   "outputs": [],
   "source": [
    "mol_1 = []\n",
    "for i in range(len(files)):\n",
    "    m = Chem.MolFromPDBFile(files[i])\n",
    "    mol_1.append(m)"
   ]
  },
  {
   "cell_type": "code",
   "execution_count": 404,
   "metadata": {},
   "outputs": [],
   "source": [
    "def Mor_fps(mol_virus):\n",
    "    fp_virus =  [];\n",
    "    for fp in mol_virus:\n",
    "        fp_virus.append(AllChem.GetMorganFingerprintAsBitVect(fp, 8,useFeatures=True,nBits = 256)); # morgan fingerprints - virus  \n",
    "    return fp_virus"
   ]
  },
  {
   "cell_type": "code",
   "execution_count": 407,
   "metadata": {},
   "outputs": [],
   "source": [
    "a = Mor_fps(mol_1)"
   ]
  },
  {
   "cell_type": "code",
   "execution_count": 409,
   "metadata": {},
   "outputs": [],
   "source": [
    "def combination(fp_virus):\n",
    "    Mor = np.zeros((len(fp_virus),256))\n",
    "    virus_list = []\n",
    "    for i in range(0,len(fp_virus)):\n",
    "        arr2 = np.zeros((1,));\n",
    "        DataStructs.ConvertToNumpyArray(fp_virus[i], arr2);\n",
    "        a = arr2.tolist()\n",
    "        virus_list.append(a)\n",
    "    v_f = np.asarray(virus_list)\n",
    "    for i in range (len(v_f)):\n",
    "            Mor[i] =  v_f[i]  \n",
    "    return Mor"
   ]
  },
  {
   "cell_type": "code",
   "execution_count": 410,
   "metadata": {},
   "outputs": [],
   "source": [
    "mol_data = combination(a)"
   ]
  },
  {
   "cell_type": "code",
   "execution_count": 429,
   "metadata": {},
   "outputs": [
    {
     "data": {
      "text/plain": [
       "(32, 256)"
      ]
     },
     "execution_count": 429,
     "metadata": {},
     "output_type": "execute_result"
    }
   ],
   "source": [
    "mol_data.shape"
   ]
  },
  {
   "cell_type": "code",
   "execution_count": 476,
   "metadata": {},
   "outputs": [],
   "source": [
    "noise = np.random.normal(0,1,size = (32,256))\n",
    "info = np.add(mol_data, noise)"
   ]
  },
  {
   "cell_type": "code",
   "execution_count": 477,
   "metadata": {},
   "outputs": [
    {
     "data": {
      "text/plain": [
       "(32, 256)"
      ]
     },
     "execution_count": 477,
     "metadata": {},
     "output_type": "execute_result"
    }
   ],
   "source": [
    "info.shape"
   ]
  },
  {
   "cell_type": "code",
   "execution_count": 504,
   "metadata": {},
   "outputs": [
    {
     "data": {
      "text/plain": [
       "<matplotlib.collections.PathCollection at 0x7f15e8b9bb00>"
      ]
     },
     "execution_count": 504,
     "metadata": {},
     "output_type": "execute_result"
    },
    {
     "data": {
      "image/png": "[encoded data removed]",
      "text/plain": [
       "<Figure size 432x288 with 1 Axes>"
      ]
     },
     "metadata": {},
     "output_type": "display_data"
    }
   ],
   "source": [
    "tsne = TSNE(n_components = 2,perplexity = 10)\n",
    "new_mol = tsne.fit_transform(mol_data)\n",
    "reduced = tsne.embedding_\n",
    "# plt.scatter(reduced[:5,0],reduced[:5,1])\n",
    "plt.scatter(new_mol[:5,0],new_mol[:5,1])"
   ]
  },
  {
   "cell_type": "code",
   "execution_count": 506,
   "metadata": {},
   "outputs": [
    {
     "data": {
      "text/plain": [
       "<matplotlib.collections.PathCollection at 0x7f15e8b4d550>"
      ]
     },
     "execution_count": 506,
     "metadata": {},
     "output_type": "execute_result"
    },
    {
     "data": {
      "image/png": "[encoded data removed]",
      "text/plain": [
       "<Figure size 432x288 with 1 Axes>"
      ]
     },
     "metadata": {},
     "output_type": "display_data"
    }
   ],
   "source": [
    "plt.scatter(reduced[:5,0],reduced[:5,1])"
   ]
  },
  {
   "cell_type": "code",
   "execution_count": 530,
   "metadata": {},
   "outputs": [
    {
     "data": {
      "text/plain": [
       "<matplotlib.collections.PathCollection at 0x7f15e84d15f8>"
      ]
     },
     "execution_count": 530,
     "metadata": {},
     "output_type": "execute_result"
    },
    {
     "data": {
      "image/png": "[encoded data removed]",
      "text/plain": [
       "<Figure size 432x288 with 1 Axes>"
      ]
     },
     "metadata": {},
     "output_type": "display_data"
    }
   ],
   "source": [
    "pca = PCA(n_components = 2, svd_solver = 'randomized')\n",
    "pca_data = pca.fit_transform(info)\n",
    "plt.scatter(pca_data[:,0], pca_data[:,1])\n",
    "# pca_data"
   ]
  },
  {
   "cell_type": "code",
   "execution_count": 531,
   "metadata": {},
   "outputs": [
    {
     "data": {
      "text/plain": [
       "<matplotlib.collections.PathCollection at 0x7f15e8425908>"
      ]
     },
     "execution_count": 531,
     "metadata": {},
     "output_type": "execute_result"
    },
    {
     "data": {
      "image/png": "[encoded data removed]",
      "text/plain": [
       "<Figure size 432x288 with 1 Axes>"
      ]
     },
     "metadata": {},
     "output_type": "display_data"
    }
   ],
   "source": [
    "plt.scatter(pca_data[-5:,0], pca_data[-5:,1])"
   ]
  },
  {
   "cell_type": "code",
   "execution_count": 512,
   "metadata": {},
   "outputs": [],
   "source": [
    "num_clusters = 3\n",
    "override = True\n",
    "num_samps = 32\n",
    "do_pretrain = True\n",
    "epochs = 20\n",
    "perplexity = 10\n",
    "batches_per_epoch = 16\n",
    "batch_size = 1\n",
    "num_outputs = 2"
   ]
  },
  {
   "cell_type": "code",
   "execution_count": 382,
   "metadata": {},
   "outputs": [],
   "source": [
    "from tensorflow.contrib.keras import layers"
   ]
  },
  {
   "cell_type": "code",
   "execution_count": 458,
   "metadata": {},
   "outputs": [],
   "source": [
    "all_layers = [\n",
    "       layers.Dense(128, input_shape=(256,), activation='relu', kernel_initializer='glorot_uniform'),\n",
    "       layers.Dense(256, activation='relu', kernel_initializer='glorot_uniform'),\n",
    "       layers.Dense(2, activation=None, kernel_initializer='glorot_uniform')\n",
    "]\n"
   ]
  },
  {
   "cell_type": "code",
   "execution_count": 464,
   "metadata": {},
   "outputs": [
    {
     "data": {
      "text/plain": [
       "<matplotlib.collections.PathCollection at 0x7f15e95df2b0>"
      ]
     },
     "execution_count": 464,
     "metadata": {},
     "output_type": "execute_result"
    },
    {
     "data": {
      "image/png": "[encoded data removed]",
      "text/plain": [
       "<Figure size 432x288 with 1 Axes>"
      ]
     },
     "metadata": {},
     "output_type": "display_data"
    }
   ],
   "source": [
    "ptSNE = Parametric_tSNE(\n",
    "       256, 2, 10, all_layers=all_layers,\n",
    "       alpha=1.0, do_pretrain=True, batch_size=batch_size, seed=7777)\n",
    "ptSNE.fit(mol_data)\n",
    "output = ptSNE.transform(info)\n",
    "plt.scatter(output[:,0],output[:,1])"
   ]
  },
  {
   "cell_type": "code",
   "execution_count": 401,
   "metadata": {},
   "outputs": [],
   "source": [
    "# ptSNE = Parametric_tSNE(256, num_outputs,perplexity)"
   ]
  },
  {
   "cell_type": "code",
   "execution_count": 465,
   "metadata": {},
   "outputs": [
    {
     "data": {
      "text/plain": [
       "<matplotlib.collections.PathCollection at 0x7f15ebfabef0>"
      ]
     },
     "execution_count": 465,
     "metadata": {},
     "output_type": "execute_result"
    },
    {
     "data": {
      "image/png": "[encoded data removed]",
      "text/plain": [
       "<Figure size 432x288 with 1 Axes>"
      ]
     },
     "metadata": {},
     "output_type": "display_data"
    }
   ],
   "source": [
    "plt.scatter(output[:21,0],output[:21,1])"
   ]
  },
  {
   "cell_type": "code",
   "execution_count": null,
   "metadata": {},
   "outputs": [],
   "source": []
  }
 ],
 "metadata": {
  "kernelspec": {
   "display_name": "Python 3",
   "language": "python",
   "name": "python3"
  },
  "language_info": {
   "codemirror_mode": {
    "name": "ipython",
    "version": 3
   },
   "file_extension": ".py",
   "mimetype": "text/x-python",
   "name": "python",
   "nbconvert_exporter": "python",
   "pygments_lexer": "ipython3",
   "version": "3.6.6"
  }
 },
 "nbformat": 4,
 "nbformat_minor": 2
}
